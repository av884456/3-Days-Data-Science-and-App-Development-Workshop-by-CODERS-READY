{
  "nbformat": 4,
  "nbformat_minor": 0,
  "metadata": {
    "colab": {
      "provenance": []
    },
    "kernelspec": {
      "name": "python3",
      "display_name": "Python 3"
    },
    "language_info": {
      "name": "python"
    }
  },
  "cells": [
    {
      "cell_type": "markdown",
      "source": [
        "WORKSHOP DAY 1\n"
      ],
      "metadata": {
        "id": "WvdhYtgwSfol"
      }
    },
    {
      "cell_type": "code",
      "source": [
        "45 + 56"
      ],
      "metadata": {
        "colab": {
          "base_uri": "https://localhost:8080/"
        },
        "id": "xkHsNpnASoYo",
        "outputId": "bbcea0a8-8f7a-4dbb-f116-6e32bfc38d02"
      },
      "execution_count": 2,
      "outputs": [
        {
          "output_type": "execute_result",
          "data": {
            "text/plain": [
              "101"
            ]
          },
          "metadata": {},
          "execution_count": 2
        }
      ]
    },
    {
      "cell_type": "code",
      "source": [
        "a = 4"
      ],
      "metadata": {
        "id": "YsWQbfktSvAn"
      },
      "execution_count": 3,
      "outputs": []
    },
    {
      "cell_type": "code",
      "source": [
        "print('Hello coders')"
      ],
      "metadata": {
        "colab": {
          "base_uri": "https://localhost:8080/"
        },
        "id": "W9DUNj0uS0dO",
        "outputId": "b5756472-8da1-43ad-b412-be16493f8e72"
      },
      "execution_count": 4,
      "outputs": [
        {
          "output_type": "stream",
          "name": "stdout",
          "text": [
            "Hello coders\n"
          ]
        }
      ]
    },
    {
      "cell_type": "code",
      "source": [
        "print(4)"
      ],
      "metadata": {
        "colab": {
          "base_uri": "https://localhost:8080/"
        },
        "id": "Vs91ckN6S6_x",
        "outputId": "b0b80cbd-ae13-4c4f-91b3-13ecb17da29e"
      },
      "execution_count": 5,
      "outputs": [
        {
          "output_type": "stream",
          "name": "stdout",
          "text": [
            "4\n"
          ]
        }
      ]
    },
    {
      "cell_type": "code",
      "source": [
        "b = 'Hello dear coder'"
      ],
      "metadata": {
        "id": "cgu40e0zTDG3"
      },
      "execution_count": 6,
      "outputs": []
    },
    {
      "cell_type": "code",
      "source": [
        "print(b)"
      ],
      "metadata": {
        "colab": {
          "base_uri": "https://localhost:8080/"
        },
        "id": "zOquKBdiTTIL",
        "outputId": "3463a115-6962-44ed-89ca-87861d82a2eb"
      },
      "execution_count": 7,
      "outputs": [
        {
          "output_type": "stream",
          "name": "stdout",
          "text": [
            "Hello dear coder\n"
          ]
        }
      ]
    },
    {
      "cell_type": "code",
      "source": [
        "pwd"
      ],
      "metadata": {
        "colab": {
          "base_uri": "https://localhost:8080/",
          "height": 35
        },
        "id": "ZuDGp3nIUC8G",
        "outputId": "e4226f75-9614-4780-c578-3c5d82b79918"
      },
      "execution_count": 8,
      "outputs": [
        {
          "output_type": "execute_result",
          "data": {
            "text/plain": [
              "'/content'"
            ],
            "application/vnd.google.colaboratory.intrinsic+json": {
              "type": "string"
            }
          },
          "metadata": {},
          "execution_count": 8
        }
      ]
    },
    {
      "cell_type": "code",
      "source": [
        "from google.colab import drive\n",
        "drive.mount('/content/drive')"
      ],
      "metadata": {
        "colab": {
          "base_uri": "https://localhost:8080/"
        },
        "id": "ymwXnvYRTXJ-",
        "outputId": "592c6ccc-aa99-44d1-f91c-bc59b2a3fc8e"
      },
      "execution_count": 9,
      "outputs": [
        {
          "output_type": "stream",
          "name": "stdout",
          "text": [
            "Mounted at /content/drive\n"
          ]
        }
      ]
    },
    {
      "cell_type": "markdown",
      "source": [
        "![GAURAV.jpeg.jpeg](data:image/jpeg;base64,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)"
      ],
      "metadata": {
        "id": "nzaOHdrtVaFc"
      }
    },
    {
      "cell_type": "code",
      "source": [
        "#this is a command to assign value to the variable\n",
        "#a = 4\n",
        "b = 4    # here 4 value is assigned to the variable b \n",
        "'''\n",
        "def = 6\n",
        "d = 56\n",
        "e = 60\n",
        "'''\n",
        "f = 70"
      ],
      "metadata": {
        "id": "J_-MBql2VtbP"
      },
      "execution_count": 10,
      "outputs": []
    },
    {
      "cell_type": "code",
      "source": [
        "# k = keywords\n",
        "#def\n",
        "#None\n",
        "#True\n",
        "#False\n"
      ],
      "metadata": {
        "id": "aXlfNi0uYJW3"
      },
      "execution_count": 11,
      "outputs": []
    },
    {
      "cell_type": "code",
      "source": [
        "#I = Identifiers"
      ],
      "metadata": {
        "id": "bFu8xyXxo6u8"
      },
      "execution_count": 12,
      "outputs": []
    },
    {
      "cell_type": "code",
      "source": [
        "a = 4\n",
        "b = 4.5\n",
        "c = 'coders'\n",
        "d = 3 + 5j\n",
        "e = 5**3\n",
        "f = 9/2\n",
        "g = 9//2\n",
        "h = None"
      ],
      "metadata": {
        "id": "he5WJip4rfOo"
      },
      "execution_count": 13,
      "outputs": []
    },
    {
      "cell_type": "code",
      "source": [
        "d.real"
      ],
      "metadata": {
        "colab": {
          "base_uri": "https://localhost:8080/"
        },
        "id": "d5nqohiBG4rH",
        "outputId": "439e16ff-2ed2-452d-89e2-68cefcd32e02"
      },
      "execution_count": 14,
      "outputs": [
        {
          "output_type": "execute_result",
          "data": {
            "text/plain": [
              "3.0"
            ]
          },
          "metadata": {},
          "execution_count": 14
        }
      ]
    },
    {
      "cell_type": "code",
      "source": [
        "d.imag"
      ],
      "metadata": {
        "colab": {
          "base_uri": "https://localhost:8080/"
        },
        "id": "qPKnqy4nHNke",
        "outputId": "9e27bd10-4904-40a1-908f-798c92b989d2"
      },
      "execution_count": 15,
      "outputs": [
        {
          "output_type": "execute_result",
          "data": {
            "text/plain": [
              "5.0"
            ]
          },
          "metadata": {},
          "execution_count": 15
        }
      ]
    },
    {
      "cell_type": "code",
      "source": [
        "True + False"
      ],
      "metadata": {
        "colab": {
          "base_uri": "https://localhost:8080/"
        },
        "id": "DZpLu6ZtHSpB",
        "outputId": "36d433c5-646e-489d-811f-af6ad90170ec"
      },
      "execution_count": 16,
      "outputs": [
        {
          "output_type": "execute_result",
          "data": {
            "text/plain": [
              "1"
            ]
          },
          "metadata": {},
          "execution_count": 16
        }
      ]
    },
    {
      "cell_type": "code",
      "source": [
        "f"
      ],
      "metadata": {
        "colab": {
          "base_uri": "https://localhost:8080/"
        },
        "id": "1bJPK3_vHXHF",
        "outputId": "8be790ca-2d11-4071-b80e-8bb3a95040ed"
      },
      "execution_count": 17,
      "outputs": [
        {
          "output_type": "execute_result",
          "data": {
            "text/plain": [
              "4.5"
            ]
          },
          "metadata": {},
          "execution_count": 17
        }
      ]
    },
    {
      "cell_type": "code",
      "source": [
        "g"
      ],
      "metadata": {
        "colab": {
          "base_uri": "https://localhost:8080/"
        },
        "id": "G9WBb_dEHb8G",
        "outputId": "b7473871-0308-47b4-9e64-a4821bc41b52"
      },
      "execution_count": 18,
      "outputs": [
        {
          "output_type": "execute_result",
          "data": {
            "text/plain": [
              "4"
            ]
          },
          "metadata": {},
          "execution_count": 18
        }
      ]
    },
    {
      "cell_type": "code",
      "source": [
        "a + b"
      ],
      "metadata": {
        "colab": {
          "base_uri": "https://localhost:8080/"
        },
        "id": "L_LIhUo3Hc5C",
        "outputId": "169b2f20-c14f-4ce8-d99b-05ccf798c9d3"
      },
      "execution_count": 19,
      "outputs": [
        {
          "output_type": "execute_result",
          "data": {
            "text/plain": [
              "8.5"
            ]
          },
          "metadata": {},
          "execution_count": 19
        }
      ]
    },
    {
      "cell_type": "code",
      "source": [
        "a = 4\n",
        "b = 13"
      ],
      "metadata": {
        "id": "k69Wx7vRHfw_"
      },
      "execution_count": 20,
      "outputs": []
    },
    {
      "cell_type": "code",
      "source": [
        "if a < 6 or b > 9:\n",
        "  print('Gaurav')"
      ],
      "metadata": {
        "colab": {
          "base_uri": "https://localhost:8080/"
        },
        "id": "I4b_czReHkWh",
        "outputId": "841a40d4-4d82-4a44-d41c-1cec0ec26cb1"
      },
      "execution_count": 21,
      "outputs": [
        {
          "output_type": "stream",
          "name": "stdout",
          "text": [
            "Gaurav\n"
          ]
        }
      ]
    },
    {
      "cell_type": "code",
      "source": [
        "food = 'pasta'\n",
        "\n",
        "if food is None:\n",
        "  print('Just in some time,let the class finish')\n",
        "else:\n",
        "  print('Here,is ',food)"
      ],
      "metadata": {
        "colab": {
          "base_uri": "https://localhost:8080/"
        },
        "id": "rGgIhxroHsJq",
        "outputId": "6161ca81-5744-4168-eb0a-03ec8e960537"
      },
      "execution_count": 22,
      "outputs": [
        {
          "output_type": "stream",
          "name": "stdout",
          "text": [
            "Here,is  pasta\n"
          ]
        }
      ]
    },
    {
      "cell_type": "code",
      "source": [
        "age = 22\n",
        "if age < 20:\n",
        "  print('you might be right')\n",
        "elif 21<age<23:\n",
        "  print('age will definetly lie between this range')\n",
        "else:\n",
        "  print(\"I Shivam verify that my age is: \",age)"
      ],
      "metadata": {
        "colab": {
          "base_uri": "https://localhost:8080/"
        },
        "id": "LRM9LCkVHxsG",
        "outputId": "f8f5e7e9-8da1-44d9-bc3a-0f8e40d5af71"
      },
      "execution_count": 23,
      "outputs": [
        {
          "output_type": "stream",
          "name": "stdout",
          "text": [
            "age will definetly lie between this range\n"
          ]
        }
      ]
    },
    {
      "cell_type": "code",
      "source": [
        "age = 18\n",
        "if age < 20:\n",
        "  print('you might be right')\n",
        "elif 21<age<23:\n",
        "  print('age will definetly lie between this range')\n",
        "else:\n",
        "  print(\"I Shivam verify that my age is: \",age)"
      ],
      "metadata": {
        "colab": {
          "base_uri": "https://localhost:8080/"
        },
        "id": "3Tc527YDH3xu",
        "outputId": "1943764a-fade-4a0f-8e06-1e9ca9e2192a"
      },
      "execution_count": 24,
      "outputs": [
        {
          "output_type": "stream",
          "name": "stdout",
          "text": [
            "you might be right\n"
          ]
        }
      ]
    },
    {
      "cell_type": "code",
      "source": [
        "age = 25\n",
        "if age < 20:\n",
        "  print('you might be right')\n",
        "elif 21<age<23:\n",
        "  print('age will definetly lie between this range')\n",
        "else:\n",
        "  print(\"I Shivam verify that my age is: \",age)"
      ],
      "metadata": {
        "colab": {
          "base_uri": "https://localhost:8080/"
        },
        "id": "AeczNi_mH7_3",
        "outputId": "f937983e-f17f-4aad-dcab-10698f7b8614"
      },
      "execution_count": 25,
      "outputs": [
        {
          "output_type": "stream",
          "name": "stdout",
          "text": [
            "I Shivam verify that my age is:  25\n"
          ]
        }
      ]
    },
    {
      "cell_type": "code",
      "source": [
        "for simran in [0,1,2,3]:\n",
        "  print(simran**2)"
      ],
      "metadata": {
        "colab": {
          "base_uri": "https://localhost:8080/"
        },
        "id": "kCad5yxwH_9r",
        "outputId": "53b69c91-3042-4284-d18b-460c187fda95"
      },
      "execution_count": 26,
      "outputs": [
        {
          "output_type": "stream",
          "name": "stdout",
          "text": [
            "0\n",
            "1\n",
            "4\n",
            "9\n"
          ]
        }
      ]
    },
    {
      "cell_type": "code",
      "source": [
        "for i in range(4):\n",
        "  print(i**2)"
      ],
      "metadata": {
        "colab": {
          "base_uri": "https://localhost:8080/"
        },
        "id": "mvzx4aVZID55",
        "outputId": "5dc87089-4c5b-4666-a936-b47cd8ecb79c"
      },
      "execution_count": 27,
      "outputs": [
        {
          "output_type": "stream",
          "name": "stdout",
          "text": [
            "0\n",
            "1\n",
            "4\n",
            "9\n"
          ]
        }
      ]
    },
    {
      "cell_type": "code",
      "source": [
        "for i in range(-3,4):\n",
        "  print(i**2)"
      ],
      "metadata": {
        "colab": {
          "base_uri": "https://localhost:8080/"
        },
        "id": "BseveUMiIIgC",
        "outputId": "33cf2965-4385-45e7-aeb8-cae5127d79fd"
      },
      "execution_count": 28,
      "outputs": [
        {
          "output_type": "stream",
          "name": "stdout",
          "text": [
            "9\n",
            "4\n",
            "1\n",
            "0\n",
            "1\n",
            "4\n",
            "9\n"
          ]
        }
      ]
    },
    {
      "cell_type": "code",
      "source": [
        "\n",
        "n = []\n",
        "sq =[]\n",
        "cb =[]\n",
        "\n",
        "for i in range(20):\n",
        "  a = i\n",
        "  b = i**2\n",
        "  c = i**3\n",
        "\n",
        "  n.append(a)\n",
        "  sq.append(b)\n",
        "  cb.append(c)"
      ],
      "metadata": {
        "id": "UHnE4LGcISJt"
      },
      "execution_count": 30,
      "outputs": []
    },
    {
      "cell_type": "code",
      "source": [
        "n"
      ],
      "metadata": {
        "colab": {
          "base_uri": "https://localhost:8080/"
        },
        "id": "7ngP2yS_IZUG",
        "outputId": "9457bc37-aef6-499e-a71b-51b6e48692cc"
      },
      "execution_count": 31,
      "outputs": [
        {
          "output_type": "execute_result",
          "data": {
            "text/plain": [
              "[0, 1, 2, 3, 4, 5, 6, 7, 8, 9, 10, 11, 12, 13, 14, 15, 16, 17, 18, 19]"
            ]
          },
          "metadata": {},
          "execution_count": 31
        }
      ]
    },
    {
      "cell_type": "code",
      "source": [
        "sq"
      ],
      "metadata": {
        "colab": {
          "base_uri": "https://localhost:8080/"
        },
        "id": "G4RGPumdIgP7",
        "outputId": "19089181-e618-4576-edc2-95f070e75c47"
      },
      "execution_count": 32,
      "outputs": [
        {
          "output_type": "execute_result",
          "data": {
            "text/plain": [
              "[0,\n",
              " 1,\n",
              " 4,\n",
              " 9,\n",
              " 16,\n",
              " 25,\n",
              " 36,\n",
              " 49,\n",
              " 64,\n",
              " 81,\n",
              " 100,\n",
              " 121,\n",
              " 144,\n",
              " 169,\n",
              " 196,\n",
              " 225,\n",
              " 256,\n",
              " 289,\n",
              " 324,\n",
              " 361]"
            ]
          },
          "metadata": {},
          "execution_count": 32
        }
      ]
    },
    {
      "cell_type": "code",
      "source": [
        "cb"
      ],
      "metadata": {
        "colab": {
          "base_uri": "https://localhost:8080/"
        },
        "id": "MR8dvOFvIiAD",
        "outputId": "9567090d-816a-4c2f-b786-78b2bf5e2e67"
      },
      "execution_count": 33,
      "outputs": [
        {
          "output_type": "execute_result",
          "data": {
            "text/plain": [
              "[0,\n",
              " 1,\n",
              " 8,\n",
              " 27,\n",
              " 64,\n",
              " 125,\n",
              " 216,\n",
              " 343,\n",
              " 512,\n",
              " 729,\n",
              " 1000,\n",
              " 1331,\n",
              " 1728,\n",
              " 2197,\n",
              " 2744,\n",
              " 3375,\n",
              " 4096,\n",
              " 4913,\n",
              " 5832,\n",
              " 6859]"
            ]
          },
          "metadata": {},
          "execution_count": 33
        }
      ]
    },
    {
      "cell_type": "code",
      "source": [
        "\n",
        "import matplotlib.pyplot as plt\n",
        "plt.plot(n,sq, '.-',n,cb,'*-')\n",
        "plt.show()"
      ],
      "metadata": {
        "colab": {
          "base_uri": "https://localhost:8080/",
          "height": 265
        },
        "id": "06iQVndHIo-i",
        "outputId": "b2338892-8453-4c55-9cc1-4fe1d055763e"
      },
      "execution_count": 34,
      "outputs": [
        {
          "output_type": "display_data",
          "data": {
            "text/plain": [
              "<Figure size 432x288 with 1 Axes>"
            ],
            "image/png": "[encoded data removed]"
          },
          "metadata": {
            "needs_background": "light"
          }
        }
      ]
    },
    {
      "cell_type": "code",
      "source": [],
      "metadata": {
        "id": "vl8l7NwjIszQ"
      },
      "execution_count": null,
      "outputs": []
    }
  ]
}